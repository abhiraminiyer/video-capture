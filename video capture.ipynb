{
 "cells": [
  {
   "cell_type": "code",
   "execution_count": null,
   "id": "38313b8b",
   "metadata": {},
   "outputs": [],
   "source": [
    "import cv2\n",
    "vid = cv2.VideoCapture(0) #port number\n",
    "while True:\n",
    "    ret, frame = vid.read()\n",
    "    image = cv2.putText(frame, \"welcome to ai mi class\", (50, 50), cv2.FONT_HERSHEY_SIMPLEX, 1, (255,255,255), 5,\n",
    "                        cv2.LINE_AA)\n",
    "    # image,message,coordinate,font type,fontscale,color(bgr),thickness,keyword\n",
    "    cv2.imshow(\"live video\", image)  # first parameter is window name second is image\n",
    "    if (cv2.waitKey(1) & 0xFF == ord('q')):\n",
    "        print(\"i am here\")\n",
    "        break  # if pass then it will not terminate from the loop\n",
    "vid.release()\n",
    "cv2.destroyAllWindows()\n"
   ]
  }
 ],
 "metadata": {
  "kernelspec": {
   "display_name": "Python 3 (ipykernel)",
   "language": "python",
   "name": "python3"
  },
  "language_info": {
   "codemirror_mode": {
    "name": "ipython",
    "version": 3
   },
   "file_extension": ".py",
   "mimetype": "text/x-python",
   "name": "python",
   "nbconvert_exporter": "python",
   "pygments_lexer": "ipython3",
   "version": "3.9.7"
  }
 },
 "nbformat": 4,
 "nbformat_minor": 5
}
